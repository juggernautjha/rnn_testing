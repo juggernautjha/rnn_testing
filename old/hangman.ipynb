{
 "cells": [
  {
   "attachments": {},
   "cell_type": "markdown",
   "metadata": {},
   "source": [
    "# Trexquant Interview Project (The Hangman Game)\n",
    "\n",
    "* Copyright Trexquant Investment LP. All Rights Reserved. \n",
    "* Redistribution of this question without written consent from Trexquant is prohibited"
   ]
  },
  {
   "attachments": {},
   "cell_type": "markdown",
   "metadata": {},
   "source": [
    "## Instruction:\n",
    "For this coding test, your mission is to write an algorithm that plays the game of Hangman through our API server. \n",
    "\n",
    "When a user plays Hangman, the server first selects a secret word at random from a list. The server then returns a row of underscores (space separated)—one for each letter in the secret word—and asks the user to guess a letter. If the user guesses a letter that is in the word, the word is redisplayed with all instances of that letter shown in the correct positions, along with any letters correctly guessed on previous turns. If the letter does not appear in the word, the user is charged with an incorrect guess. The user keeps guessing letters until either (1) the user has correctly guessed all the letters in the word\n",
    "or (2) the user has made six incorrect guesses.\n",
    "\n",
    "You are required to write a \"guess\" function that takes current word (with underscores) as input and returns a guess letter. You will use the API codes below to play 1,000 Hangman games. You have the opportunity to practice before you want to start recording your game results.\n",
    "\n",
    "Your algorithm is permitted to use a training set of approximately 250,000 dictionary words. Your algorithm will be tested on an entirely disjoint set of 250,000 dictionary words. Please note that this means the words that you will ultimately be tested on do NOT appear in the dictionary that you are given. You are not permitted to use any dictionary other than the training dictionary we provided. This requirement will be strictly enforced by code review.\n",
    "\n",
    "You are provided with a basic, working algorithm. This algorithm will match the provided masked string (e.g. a _ _ l e) to all possible words in the dictionary, tabulate the frequency of letters appearing in these possible words, and then guess the letter with the highest frequency of appearence that has not already been guessed. If there are no remaining words that match then it will default back to the character frequency distribution of the entire dictionary.\n",
    "\n",
    "This benchmark strategy is successful approximately 18% of the time. Your task is to design an algorithm that significantly outperforms this benchmark."
   ]
  },
  {
   "cell_type": "code",
   "execution_count": 18,
   "metadata": {
    "jupyter": {
     "outputs_hidden": true
    },
    "scrolled": true
   },
   "outputs": [
    {
     "name": "stdout",
     "output_type": "stream",
     "text": [
      "The autoreload extension is already loaded. To reload it, use:\n",
      "  %reload_ext autoreload\n"
     ]
    }
   ],
   "source": [
    "%load_ext autoreload\n",
    "%autoreload 2\n",
    "\n",
    "import json\n",
    "import requests\n",
    "import random\n",
    "import string\n",
    "import secrets\n",
    "import time\n",
    "import re\n",
    "import collections\n",
    "from tqdm.notebook import tqdm\n",
    "try:\n",
    "    from urllib.parse import parse_qs, urlencode, urlparse\n",
    "except ImportError:\n",
    "    from urlparse import parse_qs, urlparse\n",
    "    from urllib import urlencode\n",
    "\n",
    "from requests.packages.urllib3.exceptions import InsecureRequestWarning\n",
    "\n",
    "requests.packages.urllib3.disable_warnings(InsecureRequestWarning)\n",
    "from agents import HangmanAPI, HangmanAPIError, LocalHangman\n",
    "from hangman import Hangman\n",
    "from typing import List, Dict, Union, NoReturn"
   ]
  },
  {
   "cell_type": "code",
   "execution_count": 19,
   "metadata": {},
   "outputs": [],
   "source": [
    "def return_word_wise(wordlist : List[str]) -> List:\n",
    "    dct_cnt = {\n",
    "        chr(i) : 0 for i in range(ord('a'), ord('z')+1)\n",
    "    }\n",
    "    for word in wordlist:\n",
    "        for c in set(word):\n",
    "            dct_cnt[c] += 1\n",
    "    cnt = sorted(dct_cnt.items(), key=lambda x:x[1])\n",
    "    return cnt\n"
   ]
  },
  {
   "cell_type": "code",
   "execution_count": 20,
   "metadata": {},
   "outputs": [],
   "source": [
    "class smart_greedy(LocalHangman):\n",
    "    def __init__(self, access_token=None, session=None, timeout=None, wordlist=\"data/250k_train.txt\"):\n",
    "        super().__init__(access_token, session, wordlist)\n",
    "        self.call_sign = \"smart_greedy\"\n",
    "    def guess(self, word, debug : bool = False):\n",
    "        '''\n",
    "        Step 1: While filtering, first pattern match, and then ignore words containing letters\n",
    "        already guessed. (Wrongly, ofc).\n",
    "        \n",
    "        '''\n",
    "        clean_word = word.replace(\"_\",\"[a-z]\")\n",
    "        len_word = len(clean_word)\n",
    "        r = re.compile(f'\\\\b{clean_word}\\\\b')\n",
    "        current_dictionary = self.current_dictionary\n",
    "        new_dictionary = []\n",
    "        new_dictionary = list(filter(r.match, current_dictionary))\n",
    "        #! Gets the list of words matching the pattern.\n",
    "        #! debugging hehe: \n",
    "        if debug:\n",
    "            print(f\"{word} {new_dictionary[:min(5, len(new_dictionary))]} {len(new_dictionary)}\")\n",
    "\n",
    "        #! removing words containing any bad letters\n",
    "        good_letters = [i for i in word if i.isalpha()]\n",
    "        bad_letters = [x for x in self.guessed_letters if x not in good_letters]\n",
    "        #! DEBUG\n",
    "        if debug:\n",
    "            print(f\"good: {good_letters} bad: {bad_letters}\")\n",
    "\n",
    "        if len(bad_letters)!=0:\n",
    "            ptrn = f'^[^{\"\".join(bad_letters)}]*$'\n",
    "            r = re.compile(ptrn)\n",
    "            new_dictionary = list(filter(r.match, new_dictionary))\n",
    "        # grab current dictionary of possible words from self object, initialize new possible words dictionary to empty\n",
    "        #! DEBUG\n",
    "        if debug:\n",
    "            print(f\"{word} {new_dictionary[:min(5, len(new_dictionary))]} {len(new_dictionary)}\")        \n",
    "        self.current_dictionary = new_dictionary\n",
    "\n",
    "\n",
    "\n",
    "        full_dict_string = \"\".join(new_dictionary)\n",
    "        \n",
    "        c = collections.Counter(full_dict_string)\n",
    "        sorted_letter_count = c.most_common()                   \n",
    "        \n",
    "        guess_letter = '!'\n",
    "        \n",
    "        # return most frequently occurring letter in all possible words that hasn't been guessed yet\n",
    "        for letter,instance_count in sorted_letter_count:\n",
    "            if letter not in self.guessed_letters:\n",
    "                guess_letter = letter\n",
    "                break\n",
    "            \n",
    "        # if no word matches in training dictionary, default back to ordering of full dictionary\n",
    "        if guess_letter == '!':\n",
    "            sorted_letter_count = self.full_dictionary_common_letter_sorted\n",
    "            for letter,instance_count in sorted_letter_count:\n",
    "                if letter not in self.guessed_letters:\n",
    "                    guess_letter = letter\n",
    "                    break      \n",
    "        if debug:      \n",
    "            print(guess_letter)\n",
    "            print(\"====================================================================\")\n",
    "        return guess_letter\n",
    "\n",
    "    \n",
    "        "
   ]
  },
  {
   "cell_type": "code",
   "execution_count": 40,
   "metadata": {},
   "outputs": [],
   "source": [
    "class word_freq_greedy(LocalHangman):\n",
    "    '''\n",
    "    Smart Greedy, but considers wordwise frequence instead of raw frequency.\n",
    "    Eg: cheese contributes just one e.\n",
    "    '''\n",
    "    def __init__(self, access_token=None, session=None, timeout=None, wordlist=\"data/250k_train.txt\"):\n",
    "        super().__init__(access_token, session, timeout, wordlist)\n",
    "        self.call_sign = \"word_freq_greedy\"\n",
    "    \n",
    "    def guess(self, word, debug = False):\n",
    "        clean_word = word.replace(\"_\",\"[a-z]\")\n",
    "        len_word = len(clean_word)\n",
    "        r = re.compile(f'\\\\b{clean_word}\\\\b')\n",
    "        current_dictionary = self.current_dictionary\n",
    "        new_dictionary = []\n",
    "        new_dictionary = list(filter(r.match, current_dictionary))\n",
    "        #! Gets the list of words matching the pattern.\n",
    "        #! debugging hehe: \n",
    "        if debug:\n",
    "            print(f\"{word} {new_dictionary[:min(5, len(new_dictionary))]} {len(new_dictionary)}\")\n",
    "\n",
    "        #! removing words containing any bad letters\n",
    "        good_letters = [i for i in word if i.isalpha()]\n",
    "        bad_letters = [x for x in self.guessed_letters if x not in good_letters]\n",
    "        #! DEBUG\n",
    "        if debug:\n",
    "            print(f\"good: {good_letters} bad: {bad_letters}\")\n",
    "\n",
    "        if len(bad_letters)!=0:\n",
    "            ptrn = f'^[^{\"\".join(bad_letters)}]*$'\n",
    "            r = re.compile(ptrn)\n",
    "            new_dictionary = list(filter(r.match, new_dictionary))\n",
    "        # grab current dictionary of possible words from self object, initialize new possible words dictionary to empty\n",
    "        #! DEBUG\n",
    "        if debug:\n",
    "            print(f\"{word} {new_dictionary[:min(5, len(new_dictionary))]} {len(new_dictionary)}\")        \n",
    "        self.current_dictionary = new_dictionary\n",
    "\n",
    "\n",
    "\n",
    "        full_dict_string = \"\".join([''.join(set(x)) for x in new_dictionary])\n",
    "        # print(full_dict_string)\n",
    "        # time.sleep(50)\n",
    "        c = collections.Counter(full_dict_string)\n",
    "        sorted_letter_count = c.most_common()                   \n",
    "        \n",
    "        guess_letter = '!'\n",
    "        \n",
    "        # return most frequently occurring letter in all possible words that hasn't been guessed yet\n",
    "        for letter,instance_count in sorted_letter_count:\n",
    "            if letter not in self.guessed_letters:\n",
    "                guess_letter = letter\n",
    "                break\n",
    "            \n",
    "        # if no word matches in training dictionary, default back to ordering of full dictionary\n",
    "        if guess_letter == '!':\n",
    "            sorted_letter_count = self.full_dictionary_common_letter_sorted\n",
    "            for letter,instance_count in sorted_letter_count:\n",
    "                if letter not in self.guessed_letters:\n",
    "                    guess_letter = letter\n",
    "                    break      \n",
    "        if debug:      \n",
    "            print(guess_letter)\n",
    "            print(\"====================================================================\")\n",
    "        return guess_letter"
   ]
  },
  {
   "cell_type": "code",
   "execution_count": 42,
   "metadata": {},
   "outputs": [],
   "source": [
    "import dummylog\n",
    "from datetime import datetime\n",
    "\n",
    "dl = dummylog.DummyLog(datetime.now().strftime(\"%d%m_%H%M%S\"))"
   ]
  },
  {
   "attachments": {},
   "cell_type": "markdown",
   "metadata": {},
   "source": [
    "## Testing Chalri Bahut Bhayankar."
   ]
  },
  {
   "attachments": {},
   "cell_type": "markdown",
   "metadata": {},
   "source": [
    "## To start a new game:\n",
    "1. Compute statistiks"
   ]
  },
  {
   "cell_type": "code",
   "execution_count": 45,
   "metadata": {},
   "outputs": [
    {
     "name": "stdout",
     "output_type": "stream",
     "text": [
      "Successfully start a new game! Game ID: 6969rahuljha_1040729. # of tries remaining: 6. Word: _______.\n",
      "Guessing letter: e\n",
      "Sever response: {'game_id': '6969rahuljha_1040729', 'status': 'ongoing', 'tries_remains': 6, 'word': 'e___e__'}\n",
      "Guessing letter: s\n",
      "Sever response: {'game_id': '6969rahuljha_1040729', 'status': 'ongoing', 'tries_remains': 5, 'word': 'e___e__'}\n",
      "Guessing letter: n\n",
      "Sever response: {'game_id': '6969rahuljha_1040729', 'status': 'ongoing', 'tries_remains': 4, 'word': 'e___e__'}\n",
      "Guessing letter: r\n",
      "Sever response: {'game_id': '6969rahuljha_1040729', 'status': 'ongoing', 'tries_remains': 3, 'word': 'e___e__'}\n",
      "Guessing letter: p\n",
      "Sever response: {'game_id': '6969rahuljha_1040729', 'status': 'ongoing', 'tries_remains': 2, 'word': 'e___e__'}\n",
      "Guessing letter: a\n",
      "Sever response: {'game_id': '6969rahuljha_1040729', 'status': 'ongoing', 'tries_remains': 2, 'word': 'e___ea_'}\n",
      "Guessing letter: h\n",
      "Sever response: {'game_id': '6969rahuljha_1040729', 'status': 'ongoing', 'tries_remains': 2, 'word': 'e__hea_'}\n",
      "Guessing letter: d\n",
      "Sever response: {'game_id': '6969rahuljha_1040729', 'status': 'ongoing', 'tries_remains': 1, 'word': 'e__hea_'}\n",
      "Guessing letter: c\n",
      "Sever response: {'game_id': '6969rahuljha_1040729', 'status': 'ongoing', 'tries_remains': 1, 'word': 'e_chea_'}\n",
      "Guessing letter: x\n",
      "Sever response: {'game_id': '6969rahuljha_1040729', 'status': 'ongoing', 'tries_remains': 1, 'word': 'exchea_'}\n",
      "Guessing letter: t\n",
      "Sever response: {'game_id': '6969rahuljha_1040729', 'status': 'success', 'tries_remains': 1, 'word': 'excheat'}\n",
      "Successfully finished game: 6969rahuljha_1040729\n",
      "\n",
      "===============================================================================\n",
      "\n"
     ]
    },
    {
     "data": {
      "text/plain": [
       "True"
      ]
     },
     "execution_count": 45,
     "metadata": {},
     "output_type": "execute_result"
    }
   ],
   "source": [
    "api = word_freq_greedy(wordlist=\"data/250k.txt\")\n"
   ]
  },
  {
   "cell_type": "code",
   "execution_count": 49,
   "metadata": {},
   "outputs": [
    {
     "name": "stdout",
     "output_type": "stream",
     "text": [
      "Successfully start a new game! Game ID: 6969rahuljha_841778. # of tries remaining: 6. Word: _______________.\n",
      "Guessing letter: i\n",
      "Sever response: {'game_id': '6969rahuljha_841778', 'status': 'ongoing', 'tries_remains': 6, 'word': '_i__________i__'}\n",
      "Guessing letter: t\n",
      "Sever response: {'game_id': '6969rahuljha_841778', 'status': 'ongoing', 'tries_remains': 6, 'word': 'ti__________i__'}\n",
      "Guessing letter: o\n",
      "Sever response: {'game_id': '6969rahuljha_841778', 'status': 'ongoing', 'tries_remains': 6, 'word': 'ti______o___i__'}\n",
      "Guessing letter: d\n",
      "Sever response: {'game_id': '6969rahuljha_841778', 'status': 'ongoing', 'tries_remains': 6, 'word': 'ti______od__i__'}\n",
      "Guessing letter: r\n",
      "Sever response: {'game_id': '6969rahuljha_841778', 'status': 'ongoing', 'tries_remains': 6, 'word': 'ti___r_rod__i__'}\n",
      "Guessing letter: p\n",
      "Sever response: {'game_id': '6969rahuljha_841778', 'status': 'ongoing', 'tries_remains': 6, 'word': 'ti___rprod__i__'}\n",
      "Guessing letter: b\n",
      "Sever response: {'game_id': '6969rahuljha_841778', 'status': 'ongoing', 'tries_remains': 6, 'word': 'ti_b_rprod__i__'}\n",
      "Guessing letter: c\n",
      "Sever response: {'game_id': '6969rahuljha_841778', 'status': 'ongoing', 'tries_remains': 6, 'word': 'ti_b_rprod_ci__'}\n",
      "Guessing letter: e\n",
      "Sever response: {'game_id': '6969rahuljha_841778', 'status': 'ongoing', 'tries_remains': 6, 'word': 'ti_berprod_ci__'}\n",
      "Guessing letter: n\n",
      "Sever response: {'game_id': '6969rahuljha_841778', 'status': 'ongoing', 'tries_remains': 6, 'word': 'ti_berprod_cin_'}\n",
      "Guessing letter: u\n",
      "Sever response: {'game_id': '6969rahuljha_841778', 'status': 'ongoing', 'tries_remains': 6, 'word': 'ti_berproducin_'}\n",
      "Guessing letter: g\n",
      "Sever response: {'game_id': '6969rahuljha_841778', 'status': 'ongoing', 'tries_remains': 6, 'word': 'ti_berproducing'}\n",
      "Guessing letter: m\n",
      "Sever response: {'game_id': '6969rahuljha_841778', 'status': 'success', 'tries_remains': 6, 'word': 'timberproducing'}\n",
      "Successfully finished game: 6969rahuljha_841778\n",
      "\n",
      "===============================================================================\n",
      "\n"
     ]
    },
    {
     "data": {
      "text/plain": [
       "True"
      ]
     },
     "execution_count": 49,
     "metadata": {},
     "output_type": "execute_result"
    }
   ],
   "source": [
    "api.start_game(practice=1,verbose=True, host_dict=\"250k.txt\")\n"
   ]
  },
  {
   "cell_type": "code",
   "execution_count": 50,
   "metadata": {},
   "outputs": [],
   "source": [
    "def generate_stats(agent, train_list, test_list, n = 100):\n",
    "    api = agent(wordlist = train_list)\n",
    "    won = 0\n",
    "    lost = 0\n",
    "    curr_statz = 0.0\n",
    "    played = 0\n",
    "    for i in (pbar := tqdm(range(n))):\n",
    "        pbar.set_description(\"Acc. %.3f\"%curr_statz)\n",
    "        res = api.start_game(practice=1,verbose=False, host_dict=test_list)\n",
    "        if res:\n",
    "            won += 1\n",
    "        played += 1\n",
    "        curr_statz = won/played\n",
    "\n",
    "        # vl.logger.info(f\"Using {api.call_sign}: Success Rate after {played} games:  {won/played}\")\n",
    "    dl.logger.info(f\"Using {api.call_sign}: Train: {train_list} Test: {test_list}. Success rate after {played} games: %.3f\"%(won/played))\n",
    "\n"
   ]
  },
  {
   "cell_type": "code",
   "execution_count": 57,
   "metadata": {},
   "outputs": [
    {
     "data": {
      "application/vnd.jupyter.widget-view+json": {
       "model_id": "b8846aec715345d0a3ebc1a255d2bf73",
       "version_major": 2,
       "version_minor": 0
      },
      "text/plain": [
       "  0%|          | 0/1000 [00:00<?, ?it/s]"
      ]
     },
     "metadata": {},
     "output_type": "display_data"
    },
    {
     "name": "stdout",
     "output_type": "stream",
     "text": [
      "07/24/2023 09:54:26 AM: INFO: Using smart_greedy: Train: data/250k.txt Test: 250k.txt. Success rate after 1000 games: 0.730\n"
     ]
    }
   ],
   "source": [
    "generate_stats(smart_greedy, \"data/250k.txt\", \"250k.txt\", 1000)"
   ]
  },
  {
   "cell_type": "code",
   "execution_count": null,
   "metadata": {},
   "outputs": [],
   "source": []
  },
  {
   "cell_type": "code",
   "execution_count": null,
   "metadata": {},
   "outputs": [],
   "source": []
  }
 ],
 "metadata": {
  "kernelspec": {
   "display_name": "Python 3",
   "language": "python",
   "name": "python3"
  },
  "language_info": {
   "codemirror_mode": {
    "name": "ipython",
    "version": 3
   },
   "file_extension": ".py",
   "mimetype": "text/x-python",
   "name": "python",
   "nbconvert_exporter": "python",
   "pygments_lexer": "ipython3",
   "version": "3.10.9"
  }
 },
 "nbformat": 4,
 "nbformat_minor": 4
}
