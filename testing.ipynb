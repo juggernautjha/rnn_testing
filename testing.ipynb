{
 "cells": [
  {
   "cell_type": "code",
   "execution_count": 1,
   "metadata": {},
   "outputs": [],
   "source": [
    "%load_ext autoreload\n",
    "%reload_ext train\n",
    "from train import Trainer"
   ]
  },
  {
   "cell_type": "code",
   "execution_count": 2,
   "metadata": {},
   "outputs": [],
   "source": [
    "player = Trainer('dandlingly', None)"
   ]
  },
  {
   "cell_type": "code",
   "execution_count": 3,
   "metadata": {},
   "outputs": [
    {
     "data": {
      "text/plain": [
       "27"
      ]
     },
     "execution_count": 3,
     "metadata": {},
     "output_type": "execute_result"
    }
   ],
   "source": [
    "player.game_state[0].item()"
   ]
  },
  {
   "cell_type": "code",
   "execution_count": 4,
   "metadata": {},
   "outputs": [
    {
     "name": "stdout",
     "output_type": "stream",
     "text": [
      "__________\n",
      "Now Play\n",
      "Tries remaining : 6\n",
      "['e']\n",
      "tensor([27, 27, 27, 27, 27, 27, 27, 27, 27, 27])\n",
      "__________\n",
      "Tries remaining : 5\n",
      "['i', 'e']\n",
      "tensor([27, 27, 27, 27, 27,  9, 27, 27, 27, 27])\n",
      "_____i____\n",
      "Tries remaining : 5\n",
      "['i', 'e', 'a']\n",
      "tensor([27,  1, 27, 27, 27,  9, 27, 27, 27, 27])\n",
      "_a___i____\n",
      "Tries remaining : 5\n",
      "['i', 'e', 'a', 'o']\n",
      "tensor([27,  1, 27, 27, 27,  9, 27, 27, 27, 27])\n",
      "_a___i____\n",
      "Tries remaining : 4\n",
      "['a', 'e', 'i', 'n', 'o']\n",
      "tensor([27,  1, 14, 27, 27,  9, 14, 27, 27, 27])\n",
      "_an__in___\n",
      "Tries remaining : 4\n",
      "['a', 'e', 'i', 'n', 'o', 's']\n",
      "tensor([27,  1, 14, 27, 27,  9, 14, 27, 27, 27])\n",
      "_an__in___\n",
      "Tries remaining : 3\n",
      "['a', 'e', 'i', 'n', 'o', 's', 'y']\n",
      "tensor([27,  1, 14, 27, 27,  9, 14, 27, 27, 25])\n",
      "_an__in__y\n",
      "Tries remaining : 3\n",
      "['a', 'e', 'g', 'i', 'n', 'o', 's', 'y']\n",
      "tensor([27,  1, 14, 27, 27,  9, 14,  7, 27, 25])\n",
      "_an__ing_y\n",
      "Tries remaining : 3\n",
      "['a', 'e', 'g', 'i', 'l', 'n', 'o', 's', 'y']\n",
      "tensor([27,  1, 14, 27, 12,  9, 14,  7, 12, 25])\n",
      "_an_lingly\n",
      "Tries remaining : 3\n",
      "['a', 'd', 'e', 'g', 'i', 'l', 'n', 'o', 's', 'y']\n",
      "tensor([ 4,  1, 14,  4, 12,  9, 14,  7, 12, 25])\n",
      "dandlingly\n",
      "dandlingly\n"
     ]
    }
   ],
   "source": [
    "player.play()"
   ]
  },
  {
   "cell_type": "code",
   "execution_count": 5,
   "metadata": {},
   "outputs": [
    {
     "name": "stdout",
     "output_type": "stream",
     "text": [
      "Saw: tensor([ 0,  0,  0,  0,  0,  0,  0,  0,  0,  0,  0,  0,  0,  0,  0,  0,  0,  0,\n",
      "         0,  0, 27, 27, 27, 27, 27, 27, 27, 27, 27, 27]), Guessed: 5\n",
      "Saw: tensor([ 0,  0,  0,  0,  0,  0,  0,  0,  0,  0,  0,  0,  0,  0,  0,  0,  0,  0,\n",
      "         0,  0, 27, 27, 27, 27, 27, 27, 27, 27, 27, 27]), Guessed: 9\n",
      "Saw: tensor([ 0,  0,  0,  0,  0,  0,  0,  0,  0,  0,  0,  0,  0,  0,  0,  0,  0,  0,\n",
      "         0,  0, 27, 27, 27, 27, 27,  9, 27, 27, 27, 27]), Guessed: 1\n",
      "Saw: tensor([ 0,  0,  0,  0,  0,  0,  0,  0,  0,  0,  0,  0,  0,  0,  0,  0,  0,  0,\n",
      "         0,  0, 27,  1, 27, 27, 27,  9, 27, 27, 27, 27]), Guessed: 15\n",
      "Saw: tensor([ 0,  0,  0,  0,  0,  0,  0,  0,  0,  0,  0,  0,  0,  0,  0,  0,  0,  0,\n",
      "         0,  0, 27,  1, 27, 27, 27,  9, 27, 27, 27, 27]), Guessed: 14\n",
      "Saw: tensor([ 0,  0,  0,  0,  0,  0,  0,  0,  0,  0,  0,  0,  0,  0,  0,  0,  0,  0,\n",
      "         0,  0, 27,  1, 14, 27, 27,  9, 14, 27, 27, 27]), Guessed: 19\n",
      "Saw: tensor([ 0,  0,  0,  0,  0,  0,  0,  0,  0,  0,  0,  0,  0,  0,  0,  0,  0,  0,\n",
      "         0,  0, 27,  1, 14, 27, 27,  9, 14, 27, 27, 27]), Guessed: 25\n",
      "Saw: tensor([ 0,  0,  0,  0,  0,  0,  0,  0,  0,  0,  0,  0,  0,  0,  0,  0,  0,  0,\n",
      "         0,  0, 27,  1, 14, 27, 27,  9, 14, 27, 27, 25]), Guessed: 7\n",
      "Saw: tensor([ 0,  0,  0,  0,  0,  0,  0,  0,  0,  0,  0,  0,  0,  0,  0,  0,  0,  0,\n",
      "         0,  0, 27,  1, 14, 27, 27,  9, 14,  7, 27, 25]), Guessed: 12\n",
      "Saw: tensor([ 0,  0,  0,  0,  0,  0,  0,  0,  0,  0,  0,  0,  0,  0,  0,  0,  0,  0,\n",
      "         0,  0, 27,  1, 14, 27, 12,  9, 14,  7, 12, 25]), Guessed: 4\n"
     ]
    },
    {
     "ename": "IndexError",
     "evalue": "list index out of range",
     "output_type": "error",
     "traceback": [
      "\u001b[0;31m---------------------------------------------------------------------------\u001b[0m",
      "\u001b[0;31mIndexError\u001b[0m                                Traceback (most recent call last)",
      "Cell \u001b[0;32mIn[5], line 1\u001b[0m\n\u001b[0;32m----> 1\u001b[0m player\u001b[39m.\u001b[39;49maction_replay()\n",
      "File \u001b[0;32m~/Desktop/trexquant/train.py:75\u001b[0m, in \u001b[0;36mTrainer.action_replay\u001b[0;34m(self)\u001b[0m\n\u001b[1;32m     73\u001b[0m statistics \u001b[39m=\u001b[39m \u001b[39mself\u001b[39m\u001b[39m.\u001b[39mtraining_set\n\u001b[1;32m     74\u001b[0m \u001b[39mfor\u001b[39;00m i \u001b[39min\u001b[39;00m \u001b[39mrange\u001b[39m(\u001b[39mlen\u001b[39m(statistics[\u001b[39m'\u001b[39m\u001b[39mgame_state_one_hot\u001b[39m\u001b[39m'\u001b[39m])):\n\u001b[0;32m---> 75\u001b[0m     \u001b[39mprint\u001b[39m(\u001b[39mf\u001b[39m\u001b[39m\"\u001b[39m\u001b[39mSaw: \u001b[39m\u001b[39m{\u001b[39;00mstatistics[\u001b[39m'\u001b[39m\u001b[39mgame_state\u001b[39m\u001b[39m'\u001b[39m][i]\u001b[39m}\u001b[39;00m\u001b[39m, Guessed: \u001b[39m\u001b[39m{\u001b[39;00mstatistics[\u001b[39m'\u001b[39m\u001b[39mguessed\u001b[39m\u001b[39m'\u001b[39m][i]\u001b[39m}\u001b[39;00m\u001b[39m\"\u001b[39m)\n\u001b[1;32m     76\u001b[0m \u001b[39mreturn\u001b[39;00m\n",
      "\u001b[0;31mIndexError\u001b[0m: list index out of range"
     ]
    }
   ],
   "source": [
    "player.action_replay()"
   ]
  },
  {
   "cell_type": "code",
   "execution_count": 7,
   "metadata": {},
   "outputs": [
    {
     "name": "stdout",
     "output_type": "stream",
     "text": [
      "game_state\n",
      "tensor([ 0,  0,  0,  0,  0,  0,  0,  0,  0,  0,  0,  0,  0,  0,  0,  0,  0,  0,\n",
      "         0,  0, 27, 27, 27, 27, 27, 27, 27, 27, 27, 27])\n",
      "game_state_one_hot\n",
      "tensor([[0, 0, 0, 0, 0, 0, 0, 0, 0, 0, 0, 0, 0, 0, 0, 0, 0, 0, 0, 0, 0, 0, 0, 0,\n",
      "         0, 0, 0, 1],\n",
      "        [0, 0, 0, 0, 0, 0, 0, 0, 0, 0, 0, 0, 0, 0, 0, 0, 0, 0, 0, 0, 0, 0, 0, 0,\n",
      "         0, 0, 0, 1],\n",
      "        [0, 0, 0, 0, 0, 0, 0, 0, 0, 0, 0, 0, 0, 0, 0, 0, 0, 0, 0, 0, 0, 0, 0, 0,\n",
      "         0, 0, 0, 1],\n",
      "        [0, 0, 0, 0, 0, 0, 0, 0, 0, 0, 0, 0, 0, 0, 0, 0, 0, 0, 0, 0, 0, 0, 0, 0,\n",
      "         0, 0, 0, 1],\n",
      "        [0, 0, 0, 0, 0, 0, 0, 0, 0, 0, 0, 0, 0, 0, 0, 0, 0, 0, 0, 0, 0, 0, 0, 0,\n",
      "         0, 0, 0, 1],\n",
      "        [0, 0, 0, 0, 0, 0, 0, 0, 0, 0, 0, 0, 0, 0, 0, 0, 0, 0, 0, 0, 0, 0, 0, 0,\n",
      "         0, 0, 0, 1],\n",
      "        [0, 0, 0, 0, 0, 0, 0, 0, 0, 0, 0, 0, 0, 0, 0, 0, 0, 0, 0, 0, 0, 0, 0, 0,\n",
      "         0, 0, 0, 1],\n",
      "        [0, 0, 0, 0, 0, 0, 0, 0, 0, 0, 0, 0, 0, 0, 0, 0, 0, 0, 0, 0, 0, 0, 0, 0,\n",
      "         0, 0, 0, 1],\n",
      "        [0, 0, 0, 0, 0, 0, 0, 0, 0, 0, 0, 0, 0, 0, 0, 0, 0, 0, 0, 0, 0, 0, 0, 0,\n",
      "         0, 0, 0, 1],\n",
      "        [0, 0, 0, 0, 0, 0, 0, 0, 0, 0, 0, 0, 0, 0, 0, 0, 0, 0, 0, 0, 0, 0, 0, 0,\n",
      "         0, 0, 0, 1]])\n",
      "guessed_one_hot\n",
      "tensor([0, 0, 0, 0, 1, 0, 0, 0, 0, 0, 0, 0, 0, 0, 0, 0, 0, 0, 0, 0, 0, 0, 0, 0,\n",
      "        0, 0])\n",
      "guessed\n",
      "9\n",
      "expected_letters\n",
      "tensor([0.1429, 0.0000, 0.0000, 0.1429, 0.0000, 0.0000, 0.1429, 0.0000, 0.1429,\n",
      "        0.0000, 0.0000, 0.1429, 0.0000, 0.1429, 0.0000, 0.0000, 0.0000, 0.0000,\n",
      "        0.0000, 0.0000, 0.0000, 0.0000, 0.0000, 0.0000, 0.1429, 0.0000, 0.0000])\n"
     ]
    }
   ],
   "source": [
    "for i in player.training_set:\n",
    "    print(i)\n",
    "    print(player.training_set[i][1])"
   ]
  }
 ],
 "metadata": {
  "kernelspec": {
   "display_name": "base",
   "language": "python",
   "name": "python3"
  },
  "language_info": {
   "codemirror_mode": {
    "name": "ipython",
    "version": 3
   },
   "file_extension": ".py",
   "mimetype": "text/x-python",
   "name": "python",
   "nbconvert_exporter": "python",
   "pygments_lexer": "ipython3",
   "version": "3.10.9"
  },
  "orig_nbformat": 4
 },
 "nbformat": 4,
 "nbformat_minor": 2
}
