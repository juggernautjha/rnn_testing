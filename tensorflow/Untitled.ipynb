{
 "cells": [
  {
   "cell_type": "code",
   "execution_count": 8,
   "id": "19b0657e-14e2-401f-8437-841d7192d8fa",
   "metadata": {},
   "outputs": [],
   "source": [
    "from model import KerasModel\n",
    "from train_utils import *\n",
    "import random\n",
    "import numpy as np\n",
    "from tqdm.notebook import tqdm\n",
    "import matplotlib.pyplot as plt"
   ]
  },
  {
   "cell_type": "code",
   "execution_count": 9,
   "id": "171297fb-d985-4fe8-99e5-01567e5a45dc",
   "metadata": {},
   "outputs": [],
   "source": [
    "m = KerasModel(\"final_config\")"
   ]
  },
  {
   "cell_type": "code",
   "execution_count": 10,
   "id": "7630d175-bd24-4f5b-b9a9-02fc96f0a0a1",
   "metadata": {},
   "outputs": [],
   "source": [
    "m.guessing_model.load_weights(\"tensorflow_1000.h5\") # This defines the RNN based model."
   ]
  },
  {
   "cell_type": "markdown",
   "id": "6115553a-791e-46b3-9ed6-646fdc7ee6c5",
   "metadata": {},
   "source": [
    "##### Generating Test Dataset"
   ]
  },
  {
   "cell_type": "code",
   "execution_count": 5,
   "id": "a8030c1a-7ac2-41b8-bfbe-0d3b6e189cca",
   "metadata": {},
   "outputs": [],
   "source": [
    "path = \"/home/juggernautjha/Desktop/trexquant/rnn_testing/data/250k_test.txt\"\n",
    "words = [i.strip() for i in open(path).readlines()]\n",
    "word_len = [len(i) for i in words]\n",
    "words = [words[i] for i in np.argsort(word_len)]"
   ]
  },
  {
   "cell_type": "code",
   "execution_count": 11,
   "id": "b626f5e0-dab2-43e1-a49e-b656a9491df7",
   "metadata": {},
   "outputs": [],
   "source": [
    "def generate_stats_for_datset(path):\n",
    "    words = [i.strip() for i in open(path).readlines()]\n",
    "    word_len = [len(i) for i in words]\n",
    "    words = [words[i] for i in np.argsort(word_len)]\n",
    "    word_dict = {}\n",
    "    for i in tqdm(words):\n",
    "        if len(i) not in word_dict:\n",
    "            word_dict[len(i)] = [i]\n",
    "        else:\n",
    "            word_dict[len(i)] += [i]\n",
    "    X = [a for a,b in word_dict.items()]\n",
    "    Y = [len(b) for _,b in word_dict.items()]\n",
    "    plt.bar(X,Y)\n",
    "    pth = f\"{path.split('/')[-1].split('.')[0]}.pdf\"\n",
    "    plt.savefig(pth)\n",
    "    plt.show()\n",
    "    \n",
    "    print(pth)\n",
    "    \n",
    "    return word_dict\n",
    "    "
   ]
  },
  {
   "cell_type": "code",
   "execution_count": 12,
   "id": "d3dbe4c4-904c-43ed-952a-d20c766ad2d1",
   "metadata": {},
   "outputs": [
    {
     "data": {
      "application/vnd.jupyter.widget-view+json": {
       "model_id": "b8a587ad22bd4636a746c357886241a1",
       "version_major": 2,
       "version_minor": 0
      },
      "text/plain": [
       "  0%|          | 0/56825 [00:00<?, ?it/s]"
      ]
     },
     "metadata": {},
     "output_type": "display_data"
    },
    {
     "data": {
      "image/png": "[encoded data removed]",
      "text/plain": [
       "<Figure size 640x480 with 1 Axes>"
      ]
     },
     "metadata": {},
     "output_type": "display_data"
    },
    {
     "name": "stdout",
     "output_type": "stream",
     "text": [
      "250k_test.pdf\n"
     ]
    }
   ],
   "source": [
    "word_dict = generate_stats_for_datset(path)"
   ]
  },
  {
   "cell_type": "markdown",
   "id": "a4612c72-4fa9-41f6-b044-e2f9ea18f2c4",
   "metadata": {},
   "source": [
    "#### Testing Procedure\n",
    "- Each approach will be tested on a dictionary of 50k words.\n",
    "- I will record the following metrics\n",
    "  Length of Word, Success, Number of Hits.\n",
    "- Hopefully Graph them.\n",
    "      "
   ]
  },
  {
   "cell_type": "markdown",
   "id": "fce3e270-e62a-40de-a3aa-e9d8c13993b2",
   "metadata": {},
   "source": [
    "##### Testing the RNN Based Model"
   ]
  },
  {
   "cell_type": "code",
   "execution_count": 13,
   "id": "74989dd0-6222-451d-b9f5-afca9cb9f504",
   "metadata": {},
   "outputs": [],
   "source": [
    "stats = {i : [] for i in word_dict\n",
    "        }"
   ]
  },
  {
   "cell_type": "code",
   "execution_count": null,
   "id": "7a2033a3-5f68-4761-b0ac-e2d9680fe620",
   "metadata": {},
   "outputs": [
    {
     "data": {
      "application/vnd.jupyter.widget-view+json": {
       "model_id": "b51d0f0991864b59ae5d0e1ca67a1bb5",
       "version_major": 2,
       "version_minor": 0
      },
      "text/plain": [
       "  0%|          | 0/2 [00:00<?, ?it/s]"
      ]
     },
     "metadata": {},
     "output_type": "display_data"
    },
    {
     "data": {
      "application/vnd.jupyter.widget-view+json": {
       "model_id": "2fc9f6985cee4a98ae525d4b52af60b2",
       "version_major": 2,
       "version_minor": 0
      },
      "text/plain": [
       "  0%|          | 0/67 [00:00<?, ?it/s]"
      ]
     },
     "metadata": {},
     "output_type": "display_data"
    },
    {
     "data": {
      "application/vnd.jupyter.widget-view+json": {
       "model_id": "5147c132d23740a197473bde002ee696",
       "version_major": 2,
       "version_minor": 0
      },
      "text/plain": [
       "  0%|          | 0/540 [00:00<?, ?it/s]"
      ]
     },
     "metadata": {},
     "output_type": "display_data"
    }
   ],
   "source": [
    "for length in word_dict:\n",
    "    wins = 0\n",
    "    plays = 0\n",
    "    hits = 0\n",
    "    progbar = tqdm(word_dict[length])\n",
    "    for word in progbar:\n",
    "        player = Trainer(word, m, verbose = False)\n",
    "        _, w, won = player.play()\n",
    "        if won:\n",
    "            wins += 1\n",
    "        plays += 1\n",
    "        hits += w\n",
    "        acc = wins/plays\n",
    "        progbar.set_description(\"%.3f acc\" %acc)\n",
    "    stats[length] = [wins/plays, hits/plays]"
   ]
  }
 ],
 "metadata": {
  "kernelspec": {
   "display_name": "Python 3 (ipykernel)",
   "language": "python",
   "name": "python3"
  },
  "language_info": {
   "codemirror_mode": {
    "name": "ipython",
    "version": 3
   },
   "file_extension": ".py",
   "mimetype": "text/x-python",
   "name": "python",
   "nbconvert_exporter": "python",
   "pygments_lexer": "ipython3",
   "version": "3.11.3"
  }
 },
 "nbformat": 4,
 "nbformat_minor": 5
}
